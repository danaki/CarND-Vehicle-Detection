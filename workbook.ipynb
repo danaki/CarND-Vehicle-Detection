{
 "cells": [
  {
   "cell_type": "code",
   "execution_count": 2,
   "metadata": {
    "collapsed": false,
    "deletable": true,
    "editable": true
   },
   "outputs": [
    {
     "name": "stdout",
     "output_type": "stream",
     "text": [
      "Populating the interactive namespace from numpy and matplotlib\n"
     ]
    },
    {
     "name": "stderr",
     "output_type": "stream",
     "text": [
      "C:\\Users\\up\\Anaconda3\\envs\\carnd-term1\\lib\\site-packages\\sklearn\\cross_validation.py:44: DeprecationWarning: This module was deprecated in version 0.18 in favor of the model_selection module into which all the refactored classes and functions are moved. Also note that the interface of the new CV iterators are different from that of this module. This module will be removed in 0.20.\n",
      "  \"This module will be removed in 0.20.\", DeprecationWarning)\n"
     ]
    }
   ],
   "source": [
    "import matplotlib.image as mpimg\n",
    "import matplotlib.pyplot as plt\n",
    "import numpy as np\n",
    "import cv2\n",
    "import glob\n",
    "from util import *\n",
    "from sklearn.preprocessing import StandardScaler\n",
    "import time\n",
    "from joblib import Memory\n",
    "import pickle\n",
    "\n",
    "%load_ext autoreload\n",
    "%autoreload 2\n",
    "%matplotlib inline\n",
    "%pylab inline\n",
    "pylab.rcParams['figure.figsize'] = (10, 6)"
   ]
  },
  {
   "cell_type": "code",
   "execution_count": 3,
   "metadata": {
    "collapsed": true,
    "deletable": true,
    "editable": true
   },
   "outputs": [],
   "source": [
    "memory = Memory(cachedir='cache')"
   ]
  },
  {
   "cell_type": "code",
   "execution_count": 4,
   "metadata": {
    "collapsed": false,
    "deletable": true,
    "editable": true
   },
   "outputs": [],
   "source": [
    "vehicle_files = traverse_train_dataset('vehicles', ['GTI_Far', 'GTI_Left', 'GTI_MiddleClose', 'GTI_Right', 'KITTI_extracted'])\n",
    "nonvehicle_files = traverse_train_dataset('non-vehicles', ['Extras', 'GTI'])"
   ]
  },
  {
   "cell_type": "code",
   "execution_count": 5,
   "metadata": {
    "collapsed": false,
    "deletable": true,
    "editable": true
   },
   "outputs": [
    {
     "data": {
      "text/plain": [
       "{'data_type': dtype('float32'),\n",
       " 'image_shape': (64, 64, 3),\n",
       " 'n_cars': 8792,\n",
       " 'n_notcars': 8968}"
      ]
     },
     "execution_count": 5,
     "metadata": {},
     "output_type": "execute_result"
    }
   ],
   "source": [
    "data_look(vehicle_files, nonvehicle_files)"
   ]
  },
  {
   "cell_type": "code",
   "execution_count": 6,
   "metadata": {
    "collapsed": true,
    "deletable": true,
    "editable": true
   },
   "outputs": [],
   "source": [
    "cars = vehicle_files\n",
    "notcars = nonvehicle_files"
   ]
  },
  {
   "cell_type": "code",
   "execution_count": 8,
   "metadata": {
    "collapsed": false,
    "deletable": true,
    "editable": true
   },
   "outputs": [],
   "source": [
    "# definition of default params used by the function across the workbook\n",
    "\n",
    "params = dict(\n",
    "    conv = cv2.COLOR_RGB2YCrCb,\n",
    "    orient = 9, \n",
    "    spatial_size = (32, 32),\n",
    "    pix_per_cell = 8,\n",
    "    cell_per_block = 2,\n",
    "    hist_bins = 32\n",
    ")\n",
    "\n",
    "ystart = 400\n",
    "ystop = 656"
   ]
  },
  {
   "cell_type": "code",
   "execution_count": 9,
   "metadata": {
    "collapsed": false,
    "deletable": true,
    "editable": true
   },
   "outputs": [
    {
     "name": "stdout",
     "output_type": "stream",
     "text": [
      "________________________________________________________________________________\n",
      "[Memory] Calling util.extract_features...\n",
      "extract_features(array(['vehicles/GTI_Far\\\\image0000.png', ...,\n",
      "       'vehicles/KITTI_extracted\\\\999.png'], \n",
      "      dtype='<U38'), pix_per_cell=8, hog_feat=True, orient=9, spatial_size=(32, 32), hist_feat=True, cell_per_block=2, spatial_feat=True, conv=37, hist_bins=32)\n",
      "________________________________________________extract_features - 89.5s, 1.5min\n",
      "157.35 Seconds to extract HOG features...\n",
      "________________________________________________________________________________\n",
      "[Memory] Calling util.train_svc...\n",
      "train_svc(array([[ 1.37974 , ...,  0.056568],\n",
      "       ..., \n",
      "       [-0.615062, ...,  1.124254]]), \n",
      "array([ 1., ...,  0.]))\n",
      "________________________________________________________train_svc - 7.8s, 0.1min\n",
      "9.43 Seconds to train SVC...\n",
      "Test Accuracy of SVC =  0.9899\n"
     ]
    }
   ],
   "source": [
    "t = time.time()\n",
    "\n",
    "extract_params = {\n",
    "    **params, **dict(\n",
    "        hog_feat=True,\n",
    "        spatial_feat=True,\n",
    "        hist_feat=True)\n",
    "}\n",
    "\n",
    "car_features = extract_features(cars, **extract_params)\n",
    "notcar_features = extract_features(notcars, **extract_params)\n",
    "\n",
    "t2 = time.time()\n",
    "print(round(t2 - t, 2), 'Seconds to extract HOG features...')\n",
    "\n",
    "X = np.vstack((car_features, notcar_features)).astype(np.float64) \n",
    "y = np.hstack((np.ones(len(car_features)), np.zeros(len(notcar_features))))\n",
    "\n",
    "# Fit a per-column scaler\n",
    "X_scaler = StandardScaler().fit(X)\n",
    "\n",
    "# Apply the scaler to X\n",
    "scaled_X = X_scaler.transform(X)\n",
    "\n",
    "t = time.time()\n",
    "   \n",
    "svc, svc_acc = train_svc(scaled_X, y)\n",
    "    \n",
    "t2 = time.time()\n",
    "print(round(t2 - t, 2), 'Seconds to train SVC...')\n",
    "\n",
    "# Check the score of the SVC\n",
    "print('Test Accuracy of SVC = ', round(svc_acc, 4))\n"
   ]
  },
  {
   "cell_type": "code",
   "execution_count": 11,
   "metadata": {
    "collapsed": true,
    "deletable": true,
    "editable": true
   },
   "outputs": [],
   "source": [
    "pickle.dump(svc, open('svc.p', 'wb'))\n",
    "pickle.dump(X_scaler, open('scaler.p', 'wb'))"
   ]
  },
  {
   "cell_type": "code",
   "execution_count": 54,
   "metadata": {
    "collapsed": false,
    "deletable": true,
    "editable": true
   },
   "outputs": [],
   "source": [
    "class FrameState():\n",
    "    history_size = None\n",
    "    thresh = None\n",
    "    history_boxes = []\n",
    "    heat_layer = False\n",
    "    find_cars_params = {}\n",
    "    \n",
    "    def __init__(self, history_size=1, thresh=0, heat_layer=False, **kwargs):\n",
    "        self.history_boxes = []\n",
    "        self.history_size = history_size\n",
    "        self.thresh = thresh\n",
    "        self.heat_layer = heat_layer\n",
    "        self.find_cars_params = kwargs\n",
    "        \n",
    "    def labels_to_boxes(self, labels):\n",
    "        boxes = [] \n",
    "        for car_number in range(1, labels[1]+1):\n",
    "            nonzero = (labels[0] == car_number).nonzero()\n",
    "\n",
    "            nonzeroy = np.array(nonzero[0])\n",
    "            nonzerox = np.array(nonzero[1])\n",
    "\n",
    "            bbox = ((np.min(nonzerox), np.min(nonzeroy)), (np.max(nonzerox), np.max(nonzeroy)))\n",
    "            boxes.append(bbox)\n",
    "\n",
    "        return boxes\n",
    "    \n",
    "    def merge_intersect_x(self, bb):\n",
    "        if len(bb) == 0:\n",
    "            return bb\n",
    "        \n",
    "        saved = list(bb[0])\n",
    "        for st, en in sorted([sorted(t) for t in bb]):\n",
    "            if st[0] <= saved[1][0]:\n",
    "                saved[1] = (max(saved[1][0], en[0]), max(saved[1][1], en[1]))\n",
    "            else:\n",
    "                yield tuple(saved)\n",
    "                saved[0] = st\n",
    "                saved[1] = en\n",
    "\n",
    "        yield tuple(saved)\n",
    "    \n",
    "    \n",
    "    def __call__(self, image):\n",
    "        frame_boxes = find_cars_multiscaled(image, **self.find_cars_params)\n",
    "        self.history_boxes.append(frame_boxes)\n",
    "        \n",
    "        if len(self.history_boxes) > self.history_size:\n",
    "            del(self.history_boxes[0])\n",
    "        \n",
    "        heat = np.zeros_like(image[:,:,0]).astype(np.float)\n",
    "        heat_thresh = np.copy(heat)\n",
    "        \n",
    "        nonzero_boxes = [b for b in self.history_boxes if len(b) > 0]\n",
    "        if len(nonzero_boxes) > 0:\n",
    "            all_boxes = np.concatenate(nonzero_boxes)\n",
    "            if len(all_boxes) > 0:\n",
    "                heat = add_heat(heat, all_boxes)\n",
    "\n",
    "            if self.thresh > 0:\n",
    "                heat_thresh = apply_threshold(heat, self.thresh)    \n",
    "    \n",
    "        labels = label(heat_thresh)\n",
    "        \n",
    "        boxes = self.labels_to_boxes(labels)\n",
    "        boxes = [((b[0][0] - 25, b[0][1] - 25), (b[1][0] + 25, b[1][1] + 25)) for b in boxes]\n",
    "        boxes = list(self.merge_intersect_x(boxes))\n",
    "  \n",
    "        # skip some small after merging\n",
    "        boxes = [b for b in boxes if (b[1][0] - b[0][0] - 50) > 50 and (b[1][0] - b[0][0] - 50) > 50]\n",
    "        \n",
    "        for bbox in boxes:\n",
    "            cv2.rectangle(image, bbox[0], bbox[1], (0,0,255), 6)\n",
    "        \n",
    "        if self.heat_layer:\n",
    "            heat *= 10\n",
    "            h2 = np.clip(np.dstack((heat, heat, heat)).astype(np.uint8), 0, 255)\n",
    "            image = cv2.addWeighted(image, 1, h2, 1, 0)\n",
    "    \n",
    "        return image\n"
   ]
  },
  {
   "cell_type": "code",
   "execution_count": 55,
   "metadata": {
    "collapsed": false,
    "deletable": true,
    "editable": true
   },
   "outputs": [
    {
     "data": {
      "image/png": "[encoded data removed]",
      "text/plain": [
       "<matplotlib.figure.Figure at 0x2339b7cf898>"
      ]
     },
     "metadata": {},
     "output_type": "display_data"
    }
   ],
   "source": [
    "from IPython.display import clear_output\n",
    "\n",
    "state = FrameState(5, 9, False, scales=scale_steps(0.5, 2, 0.5), **find_cars_params)\n",
    "\n",
    "vid = cv2.VideoCapture(\"shadows.mp4\")\n",
    "\n",
    "try:\n",
    "    while(True):\n",
    "        ret, frame = vid.read()\n",
    "        if not ret:\n",
    "            vid.release()\n",
    "            break\n",
    "            \n",
    "        frame = cv2.cvtColor(frame, cv2.COLOR_BGR2RGB)\n",
    "        axis('off')\n",
    "\n",
    "        result_frame = state(frame)\n",
    "        \n",
    "        plt.imshow(result_frame)       \n",
    "        \n",
    "        show()\n",
    "\n",
    "        #clear_output(wait=False)\n",
    "        clear_output(wait=True)\n",
    "        \n",
    "except KeyboardInterrupt:\n",
    "    vid.release()"
   ]
  },
  {
   "cell_type": "code",
   "execution_count": 56,
   "metadata": {
    "collapsed": false,
    "deletable": true,
    "editable": true
   },
   "outputs": [
    {
     "name": "stderr",
     "output_type": "stream",
     "text": [
      "C:\\Users\\up\\Anaconda3\\envs\\carnd-term1\\lib\\site-packages\\skimage\\filter\\__init__.py:6: skimage_deprecation: The `skimage.filter` module has been renamed to `skimage.filters`.  This placeholder module will be removed in v0.13.\n",
      "  warn(skimage_deprecation('The `skimage.filter` module has been renamed '\n",
      "C:\\Users\\up\\Anaconda3\\envs\\carnd-term1\\lib\\site-packages\\moviepy\\audio\\io\\readers.py:110: VisibleDeprecationWarning: using a non-integer number instead of an integer will result in an error in the future\n",
      "  self.nchannels))\n"
     ]
    },
    {
     "name": "stdout",
     "output_type": "stream",
     "text": [
      "\n",
      "MoviePy: building video file project_video_result.mp4\n",
      "----------------------------------------\n",
      "\n",
      "Writing video into project_video_result.mp4\n",
      "Done writing video in project_video_result.mp4 !                           \n",
      "Your video is ready !\n",
      "Wall time: 1h 11min 31s\n"
     ]
    }
   ],
   "source": [
    "from moviepy.editor import VideoFileClip\n",
    "\n",
    "state = FrameState(5, 9, False, scales=scale_steps(0.5, 2, 0.5), **find_cars_params)\n",
    "\n",
    "test_output = 'project_video_result.mp4'\n",
    "clip = VideoFileClip('project_video.mp4')\n",
    "fl_clip = clip.fl_image(state)\n",
    "%time fl_clip.write_videofile(test_output, audio=False)"
   ]
  },
  {
   "cell_type": "code",
   "execution_count": null,
   "metadata": {
    "collapsed": true,
    "deletable": true,
    "editable": true
   },
   "outputs": [],
   "source": []
  }
 ],
 "metadata": {
  "kernelspec": {
   "display_name": "Python 3",
   "language": "python",
   "name": "python3"
  },
  "language_info": {
   "codemirror_mode": {
    "name": "ipython",
    "version": 3
   },
   "file_extension": ".py",
   "mimetype": "text/x-python",
   "name": "python",
   "nbconvert_exporter": "python",
   "pygments_lexer": "ipython3",
   "version": "3.5.2"
  },
  "widgets": {
   "state": {},
   "version": "1.1.2"
  }
 },
 "nbformat": 4,
 "nbformat_minor": 2
}
